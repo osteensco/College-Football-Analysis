{
 "cells": [
  {
   "cell_type": "markdown",
   "metadata": {},
   "source": [
    "# College Football Analysis Using Aggregated Team Data\n",
    "\n",
    "\n",
    "This notebook explores college football game data by team for games since 2010. More specifically, it evaluates the relationships between certain features and predicting wins towards the end of a given season. The goal of this analysis is to better understand what specific statistics about a team can be reliably looked at as indicators for the potential to win."
   ]
  },
  {
   "cell_type": "code",
   "execution_count": 1,
   "metadata": {},
   "outputs": [],
   "source": [
    "#imports used\n",
    "import pandas as pd\n",
    "from bqAutoAuth import bqClient\n",
    "import time"
   ]
  },
  {
   "cell_type": "markdown",
   "metadata": {},
   "source": [
    "The data used is webscraped and dropped into bigquery for easy access. It is continuously updated every week during football season. The code for this ETL process is within the Data Pipeline project."
   ]
  },
  {
   "cell_type": "code",
   "execution_count": 2,
   "metadata": {},
   "outputs": [
    {
     "name": "stdout",
     "output_type": "stream",
     "text": [
      "successful gcloud authentication check\n"
     ]
    },
    {
     "data": {
      "text/html": [
       "<div>\n",
       "<style scoped>\n",
       "    .dataframe tbody tr th:only-of-type {\n",
       "        vertical-align: middle;\n",
       "    }\n",
       "\n",
       "    .dataframe tbody tr th {\n",
       "        vertical-align: top;\n",
       "    }\n",
       "\n",
       "    .dataframe thead th {\n",
       "        text-align: right;\n",
       "    }\n",
       "</style>\n",
       "<table border=\"1\" class=\"dataframe\">\n",
       "  <thead>\n",
       "    <tr style=\"text-align: right;\">\n",
       "      <th></th>\n",
       "      <th>GameID</th>\n",
       "      <th>Team</th>\n",
       "      <th>isHome</th>\n",
       "      <th>Points</th>\n",
       "      <th>FirstDowns</th>\n",
       "      <th>ThirdDownEff</th>\n",
       "      <th>FourthDownEff</th>\n",
       "      <th>TotalYds</th>\n",
       "      <th>PassYds</th>\n",
       "      <th>PassCompAtt</th>\n",
       "      <th>PassIntThrown</th>\n",
       "      <th>RushYds</th>\n",
       "      <th>RushAtt</th>\n",
       "      <th>Penalties</th>\n",
       "      <th>FumblesLost</th>\n",
       "      <th>PossTime</th>\n",
       "    </tr>\n",
       "  </thead>\n",
       "  <tbody>\n",
       "    <tr>\n",
       "      <th>0</th>\n",
       "      <td>401309889</td>\n",
       "      <td>California Golden Bears</td>\n",
       "      <td>False</td>\n",
       "      <td>3</td>\n",
       "      <td>9</td>\n",
       "      <td>1-14</td>\n",
       "      <td>0-1</td>\n",
       "      <td>122</td>\n",
       "      <td>94</td>\n",
       "      <td>11-29</td>\n",
       "      <td>0</td>\n",
       "      <td>28</td>\n",
       "      <td>24</td>\n",
       "      <td>7-53</td>\n",
       "      <td>0</td>\n",
       "      <td>24:49</td>\n",
       "    </tr>\n",
       "    <tr>\n",
       "      <th>1</th>\n",
       "      <td>401282122</td>\n",
       "      <td>Missouri Tigers</td>\n",
       "      <td>False</td>\n",
       "      <td>6</td>\n",
       "      <td>15</td>\n",
       "      <td>6-17</td>\n",
       "      <td>2-4</td>\n",
       "      <td>273</td>\n",
       "      <td>152</td>\n",
       "      <td>20-32</td>\n",
       "      <td>0</td>\n",
       "      <td>121</td>\n",
       "      <td>35</td>\n",
       "      <td>5-25</td>\n",
       "      <td>0</td>\n",
       "      <td>31:53</td>\n",
       "    </tr>\n",
       "    <tr>\n",
       "      <th>2</th>\n",
       "      <td>400603906</td>\n",
       "      <td>Vanderbilt Commodores</td>\n",
       "      <td>False</td>\n",
       "      <td>7</td>\n",
       "      <td>11</td>\n",
       "      <td>5-18</td>\n",
       "      <td>1-2</td>\n",
       "      <td>175</td>\n",
       "      <td>30</td>\n",
       "      <td>3-14</td>\n",
       "      <td>0</td>\n",
       "      <td>145</td>\n",
       "      <td>48</td>\n",
       "      <td>7-45</td>\n",
       "      <td>0</td>\n",
       "      <td>31:54</td>\n",
       "    </tr>\n",
       "    <tr>\n",
       "      <th>3</th>\n",
       "      <td>401236022</td>\n",
       "      <td>West Virginia Mountaineers</td>\n",
       "      <td>False</td>\n",
       "      <td>13</td>\n",
       "      <td>21</td>\n",
       "      <td>6-17</td>\n",
       "      <td>0-3</td>\n",
       "      <td>360</td>\n",
       "      <td>317</td>\n",
       "      <td>35-50</td>\n",
       "      <td>0</td>\n",
       "      <td>43</td>\n",
       "      <td>26</td>\n",
       "      <td>6-50</td>\n",
       "      <td>0</td>\n",
       "      <td>34:21</td>\n",
       "    </tr>\n",
       "    <tr>\n",
       "      <th>4</th>\n",
       "      <td>401282720</td>\n",
       "      <td>Illinois Fighting Illini</td>\n",
       "      <td>False</td>\n",
       "      <td>14</td>\n",
       "      <td>17</td>\n",
       "      <td>5-12</td>\n",
       "      <td>0-0</td>\n",
       "      <td>265</td>\n",
       "      <td>80</td>\n",
       "      <td>7-10</td>\n",
       "      <td>0</td>\n",
       "      <td>185</td>\n",
       "      <td>48</td>\n",
       "      <td>7-72</td>\n",
       "      <td>0</td>\n",
       "      <td>30:20</td>\n",
       "    </tr>\n",
       "  </tbody>\n",
       "</table>\n",
       "</div>"
      ],
      "text/plain": [
       "      GameID                        Team  isHome Points FirstDowns  \\\n",
       "0  401309889     California Golden Bears   False      3          9   \n",
       "1  401282122             Missouri Tigers   False      6         15   \n",
       "2  400603906       Vanderbilt Commodores   False      7         11   \n",
       "3  401236022  West Virginia Mountaineers   False     13         21   \n",
       "4  401282720    Illinois Fighting Illini   False     14         17   \n",
       "\n",
       "  ThirdDownEff FourthDownEff TotalYds PassYds PassCompAtt PassIntThrown  \\\n",
       "0         1-14           0-1      122      94       11-29             0   \n",
       "1         6-17           2-4      273     152       20-32             0   \n",
       "2         5-18           1-2      175      30        3-14             0   \n",
       "3         6-17           0-3      360     317       35-50             0   \n",
       "4         5-12           0-0      265      80        7-10             0   \n",
       "\n",
       "  RushYds RushAtt Penalties FumblesLost PossTime  \n",
       "0      28      24      7-53           0    24:49  \n",
       "1     121      35      5-25           0    31:53  \n",
       "2     145      48      7-45           0    31:54  \n",
       "3      43      26      6-50           0    34:21  \n",
       "4     185      48      7-72           0    30:20  "
      ]
     },
     "execution_count": 2,
     "metadata": {},
     "output_type": "execute_result"
    }
   ],
   "source": [
    "client = bqClient()#this is a custom object that will automatically check default authentication for the google SDK CLI and prompt authentication if none is detected.\n",
    "qs = \"SELECT * FROM `portfolio-project-353016.collegeFootball.Game_Team_Stats` \"\n",
    "teamStats_df = client.query(qs).result().to_dataframe()\n",
    "teamStats_df.head()\n"
   ]
  },
  {
   "cell_type": "markdown",
   "metadata": {},
   "source": [
    "The data will have a record for each team per game, with their respective stats for that game. These fields are offensively focused, but we can infer defensive fields by executing a selfjoin with the opposing team for each game."
   ]
  },
  {
   "cell_type": "code",
   "execution_count": null,
   "metadata": {},
   "outputs": [],
   "source": []
  }
 ],
 "metadata": {
  "kernelspec": {
   "display_name": "Python 3.10.5 ('env': venv)",
   "language": "python",
   "name": "python3"
  },
  "language_info": {
   "codemirror_mode": {
    "name": "ipython",
    "version": 3
   },
   "file_extension": ".py",
   "mimetype": "text/x-python",
   "name": "python",
   "nbconvert_exporter": "python",
   "pygments_lexer": "ipython3",
   "version": "3.9.13"
  },
  "orig_nbformat": 4,
  "vscode": {
   "interpreter": {
    "hash": "fa530b58547672af9b826860d6136c8a0202eff3c19ccbe69039129ad286f331"
   }
  }
 },
 "nbformat": 4,
 "nbformat_minor": 2
}
