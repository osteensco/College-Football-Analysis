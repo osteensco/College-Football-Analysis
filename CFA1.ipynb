{
 "cells": [
  {
   "cell_type": "markdown",
   "metadata": {},
   "source": [
    "# College Football Analysis Using Aggregated Team Data\n",
    "\n",
    "\n",
    "This notebook explores college football game data by team for games since 2010. More specifically, it evaluates the relationships between certain features and predicting wins towards the end of a given season. The goal of this analysis is to better understand what specific statistics about a team can be reliably looked at as indicators for the potential to win."
   ]
  },
  {
   "cell_type": "code",
   "execution_count": null,
   "metadata": {},
   "outputs": [],
   "source": [
    "import pandas as pd\n",
    "from bqAutoAuth import bqClient\n",
    "import time"
   ]
  },
  {
   "cell_type": "code",
   "execution_count": null,
   "metadata": {},
   "outputs": [],
   "source": [
    "client = bqClient()\n",
    "qs = \"SELECT * FROM `portfolio-project-353016.collegeFootball.Game_Team_Stats` \"\n",
    "teamStats_df = client.query(qs).result().to_dataframe()\n",
    "teamStats_df.head()\n"
   ]
  }
 ],
 "metadata": {
  "kernelspec": {
   "display_name": "Python 3.10.5 ('env': venv)",
   "language": "python",
   "name": "python3"
  },
  "language_info": {
   "codemirror_mode": {
    "name": "ipython",
    "version": 3
   },
   "file_extension": ".py",
   "mimetype": "text/x-python",
   "name": "python",
   "nbconvert_exporter": "python",
   "pygments_lexer": "ipython3",
   "version": "3.10.5"
  },
  "orig_nbformat": 4,
  "vscode": {
   "interpreter": {
    "hash": "a705a15e70283f6999ae4078fb301dce0d6c86ea156e9bd5136e76d7fc7b2a0b"
   }
  }
 },
 "nbformat": 4,
 "nbformat_minor": 2
}
